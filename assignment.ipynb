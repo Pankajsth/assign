{
 "cells": [
  {
   "cell_type": "code",
   "execution_count": 1,
   "id": "2f04cc91-e584-4b02-9da8-73fab4bfa8b6",
   "metadata": {},
   "outputs": [
    {
     "name": "stdout",
     "output_type": "stream",
     "text": [
      "Hello, my name is Pankaj and I am 30 years old.\n"
     ]
    }
   ],
   "source": [
    "name = 'Pankaj'\n",
    "age = 30\n",
    "print(f'Hello, my name is {name} and I am {age} years old.')"
   ]
  },
  {
   "cell_type": "code",
   "execution_count": 2,
   "id": "18a064bb-b96d-4c22-ab5e-fa5605fe9e05",
   "metadata": {},
   "outputs": [
    {
     "name": "stdout",
     "output_type": "stream",
     "text": [
      "['travelling', 'reading', 'learning']\n",
      "['travelling', 'reading', 'learning', 'doing nothing']\n"
     ]
    }
   ],
   "source": [
    "hobbies = ['travelling','reading','learning']\n",
    "print(hobbies)\n",
    "hobbies.append('doing nothing')\n",
    "print(hobbies)"
   ]
  },
  {
   "cell_type": "code",
   "execution_count": 3,
   "id": "a1e43537-5286-45f6-9b17-167992d499b7",
   "metadata": {},
   "outputs": [
    {
     "name": "stdout",
     "output_type": "stream",
     "text": [
      "(25, 25)\n",
      "[25, 25]\n",
      "[30, 25]\n",
      "(30, 25)\n"
     ]
    }
   ],
   "source": [
    "screen_dimensions = (25,25)\n",
    "print(screen_dimensions)\n",
    "change = list(screen_dimensions)\n",
    "print(change)\n",
    "change[0] = 30\n",
    "print(change)\n",
    "screen_dimensions = tuple(change)\n",
    "print(screen_dimensions)\n"
   ]
  },
  {
   "cell_type": "code",
   "execution_count": 4,
   "id": "8b9a2e00-23b6-484f-a959-4dc9149973a3",
   "metadata": {},
   "outputs": [
    {
     "name": "stdout",
     "output_type": "stream",
     "text": [
      "type: dog\n",
      "pet_name: lusi\n",
      "age: 2\n",
      "lusi color is white\n"
     ]
    }
   ],
   "source": [
    "pet = {\n",
    "    'type':'dog',\n",
    "    'pet_name':'lusi',\n",
    "    'age': 2,\n",
    "}\n",
    "{print(f'{key}: {value}')for key,value in pet.items()}\n",
    "pet['color'] = 'white'\n",
    "print(f'{pet['pet_name']} color is {pet['color']}')"
   ]
  },
  {
   "cell_type": "code",
   "execution_count": 5,
   "id": "f3ad870e-e7b9-4a70-a09b-af4883e84405",
   "metadata": {},
   "outputs": [
    {
     "name": "stdin",
     "output_type": "stream",
     "text": [
      "Enter your age:  7\n"
     ]
    },
    {
     "name": "stdout",
     "output_type": "stream",
     "text": [
      "I am not adult\n"
     ]
    }
   ],
   "source": [
    "age = int(input(\"Enter your age: \"))\n",
    "\n",
    "is_adult = age >= 18\n",
    "\n",
    "if is_adult:\n",
    "    print(\"I am an adult.\")\n",
    "else:\n",
    "    print(\"I am not adult\")"
   ]
  },
  {
   "cell_type": "code",
   "execution_count": null,
   "id": "be34ab02-3bf0-44a9-a5c9-bb1e92278d6c",
   "metadata": {},
   "outputs": [],
   "source": []
  },
  {
   "cell_type": "code",
   "execution_count": null,
   "id": "0c59747f-e295-4eb5-846d-d7e231ad2f1f",
   "metadata": {},
   "outputs": [],
   "source": []
  }
 ],
 "metadata": {
  "kernelspec": {
   "display_name": "Python 3 (ipykernel)",
   "language": "python",
   "name": "python3"
  },
  "language_info": {
   "codemirror_mode": {
    "name": "ipython",
    "version": 3
   },
   "file_extension": ".py",
   "mimetype": "text/x-python",
   "name": "python",
   "nbconvert_exporter": "python",
   "pygments_lexer": "ipython3",
   "version": "3.12.2"
  }
 },
 "nbformat": 4,
 "nbformat_minor": 5
}
