{
 "cells": [
  {
   "cell_type": "code",
   "execution_count": 1,
   "id": "ba5bc9d2-ede8-40ef-8afe-250fe3b0a79f",
   "metadata": {},
   "outputs": [],
   "source": [
    "class Product:\n",
    "    products = {}\n",
    "    def __init__(self, name, price):\n",
    "        self.name = name\n",
    "        self.price = price\n",
    "        Product.products[self.name] = self.price \n",
    "    @classmethod\n",
    "    def product_list(clss):\n",
    "        return clss.products\n",
    "\n",
    "class User:\n",
    "    def __init__(self, name, premium):\n",
    "        self.name = name\n",
    "        self.pre = premium\n",
    "        print(self.pre)\n",
    "    def re_pre(self):\n",
    "        return self.pre\n",
    "    \n",
    "class ShoppingCart(User):\n",
    "    def __init__(self, name, pre):\n",
    "        super().__init__(name, pre)\n",
    "        self.a = Product.product_list()\n",
    "        self.lstnpcs = {} #list and pcs\n",
    "    def get_list(self):\n",
    "        return self.a\n",
    "\n",
    "    def adding(self, items, pcs):\n",
    "        if self.a == {}:\n",
    "            print(f\"{items} Not Product Available\")\n",
    "        else:\n",
    "            self.lstnpcs[items] = int(pcs)\n",
    "            print(self.lstnpcs)\n",
    "\n",
    "    def removing(self, re_items,re_pcs):\n",
    "        if self.lstnpcs == {}:\n",
    "            print(\"Please add items in the cart\")\n",
    "        else:\n",
    "            for k in self.lstnpcs.keys():\n",
    "                if k == re_items:\n",
    "                    self.lstnpcs[k] -= re_pcs\n",
    "                    '''\n",
    "                    if self.lstnpcs[k] <= 0:\n",
    "                        print(\"ok\")\n",
    "                        del self.lstnpcs[k]\n",
    "                    '''\n",
    "                '''\n",
    "                else:\n",
    "                    print(f\"Sorry you had not added {re_items} in cart\")\n",
    "                '''\n",
    "            #for k in self.lstnpcs.keys():\n",
    "                if self.lstnpcs[k] <= 0:\n",
    "                    #print(\"ok\")\n",
    "                    self.lstnpcs[k]=0\n",
    "        print(self.lstnpcs)\n",
    "        \n",
    "    def cal_total_ct(self):\n",
    "        self.total = 0\n",
    "        self.dis =0\n",
    "        if self.lstnpcs == {}:\n",
    "            print(\"Please enter the add items in the cart\")\n",
    "        else:\n",
    "            for k, v in self.a.items():\n",
    "                for key, value in self.lstnpcs.items():\n",
    "                    if k == key:\n",
    "                        mul= v * value\n",
    "                        self.total += mul\n",
    "                        \n",
    "            if super().re_pre():\n",
    "                self.dis = round(self.total * 0.1, 2)\n",
    "            self.total -= self.dis\n",
    "            self.invoice()\n",
    "    \n",
    "    def invoice(self):\n",
    "        print(f\"Here is your bill Mr/Mrs {self.name}\")\n",
    "        print(\"=\"*30)\n",
    "        for k, v in self.a.items():\n",
    "            for key, va in self.lstnpcs.items():\n",
    "                if key == k:\n",
    "                    print(f\"item = {k} rate =Rs {v} Pcs = {va} == Rs{v * va}\")\n",
    "        if self.dis > 0:\n",
    "            print(f\"To our Premium Users there is 10% discount  == Rs{self.dis} \")\n",
    "        print(f\"total          Rs{self.total}\")\n",
    "            \n",
    "        \n",
    "def is_admin():\n",
    "    admin_code = \"1234\"\n",
    "    entered_code = input(\"Please enter the admin code\")\n",
    "    if entered_code == admin_code:\n",
    "        return True"
   ]
  },
  {
   "cell_type": "code",
   "execution_count": 2,
   "id": "1e6effe6-97ea-44bb-910c-193b15394519",
   "metadata": {},
   "outputs": [],
   "source": [
    "p1 = Product(\"apple\", 34)\n",
    "p2 = Product(\"ball\", 10)\n",
    "p3 = Product(\"car\", 6)"
   ]
  },
  {
   "cell_type": "code",
   "execution_count": 3,
   "id": "facb9fbb-e513-4b1b-adef-30142bb5e366",
   "metadata": {},
   "outputs": [
    {
     "name": "stdout",
     "output_type": "stream",
     "text": [
      "{'apple': 34, 'ball': 10, 'car': 6}\n"
     ]
    }
   ],
   "source": [
    "print(Product.product_list())"
   ]
  },
  {
   "cell_type": "code",
   "execution_count": 4,
   "id": "a1ec57ee-7492-421f-b177-17ee857f9caa",
   "metadata": {},
   "outputs": [
    {
     "name": "stdin",
     "output_type": "stream",
     "text": [
      "Please enter the admin code 1234\n"
     ]
    },
    {
     "name": "stdout",
     "output_type": "stream",
     "text": [
      "True\n"
     ]
    }
   ],
   "source": [
    "s = ShoppingCart(\"Ram\", is_admin())"
   ]
  },
  {
   "cell_type": "code",
   "execution_count": 5,
   "id": "a89e93dc-e01d-4bf0-9800-76667085cdc4",
   "metadata": {},
   "outputs": [
    {
     "name": "stdout",
     "output_type": "stream",
     "text": [
      "{'apple': 34, 'ball': 10, 'car': 6}\n"
     ]
    }
   ],
   "source": [
    "print(s.get_list())"
   ]
  },
  {
   "cell_type": "code",
   "execution_count": 6,
   "id": "7ba7d5d1-8645-4a52-8a2d-2198e4f007fd",
   "metadata": {},
   "outputs": [
    {
     "name": "stdout",
     "output_type": "stream",
     "text": [
      "{'apple': 2}\n"
     ]
    }
   ],
   "source": [
    "s.adding(\"apple\", 2)"
   ]
  },
  {
   "cell_type": "code",
   "execution_count": 7,
   "id": "ae3d294d-39f0-4c05-a4f1-9e1459ab9606",
   "metadata": {},
   "outputs": [
    {
     "name": "stdout",
     "output_type": "stream",
     "text": [
      "{'apple': 2}\n"
     ]
    }
   ],
   "source": [
    "s.removing(\"ball\", 1)"
   ]
  },
  {
   "cell_type": "code",
   "execution_count": 8,
   "id": "aa7101d8-65c7-4e1f-9d7a-0c24e2b2ab7d",
   "metadata": {},
   "outputs": [
    {
     "name": "stdout",
     "output_type": "stream",
     "text": [
      "Here is your bill Mr/Mrs Ram\n",
      "==============================\n",
      "item = apple rate =Rs 34 Pcs = 2 == Rs68\n",
      "To our Premium Users there is 10% discount  == Rs6.8 \n",
      "total          Rs61.2\n"
     ]
    }
   ],
   "source": [
    "s.cal_total_ct()"
   ]
  },
  {
   "cell_type": "code",
   "execution_count": 9,
   "id": "a83203f7-f248-45ce-8930-82c39b9bc3e4",
   "metadata": {},
   "outputs": [
    {
     "name": "stdout",
     "output_type": "stream",
     "text": [
      "{'apple': 2, 'ball': 1}\n"
     ]
    }
   ],
   "source": [
    "s.adding(\"ball\", 1)"
   ]
  },
  {
   "cell_type": "code",
   "execution_count": 10,
   "id": "ce22c001-afb2-4b1e-aac3-e0442ece4b0b",
   "metadata": {},
   "outputs": [
    {
     "name": "stdout",
     "output_type": "stream",
     "text": [
      "Here is your bill Mr/Mrs Ram\n",
      "==============================\n",
      "item = apple rate =Rs 34 Pcs = 2 == Rs68\n",
      "item = ball rate =Rs 10 Pcs = 1 == Rs10\n",
      "To our Premium Users there is 10% discount  == Rs7.8 \n",
      "total          Rs70.2\n"
     ]
    }
   ],
   "source": [
    "s.cal_total_ct()"
   ]
  },
  {
   "cell_type": "code",
   "execution_count": 11,
   "id": "e7b63f7d-6c01-4c5d-9e1e-503ba42d33b7",
   "metadata": {},
   "outputs": [
    {
     "name": "stdout",
     "output_type": "stream",
     "text": [
      "{'apple': 2, 'ball': 0}\n"
     ]
    }
   ],
   "source": [
    "s.removing(\"ball\",2)"
   ]
  },
  {
   "cell_type": "code",
   "execution_count": 12,
   "id": "046af205-0353-45d3-83a8-6ac1c86dde81",
   "metadata": {},
   "outputs": [
    {
     "name": "stdout",
     "output_type": "stream",
     "text": [
      "Here is your bill Mr/Mrs Ram\n",
      "==============================\n",
      "item = apple rate =Rs 34 Pcs = 2 == Rs68\n",
      "item = ball rate =Rs 10 Pcs = 0 == Rs0\n",
      "To our Premium Users there is 10% discount  == Rs6.8 \n",
      "total          Rs61.2\n"
     ]
    }
   ],
   "source": [
    "s.cal_total_ct()\n"
   ]
  },
  {
   "cell_type": "code",
   "execution_count": null,
   "id": "65fe8608-51d9-48ee-8db8-1b704e36a24a",
   "metadata": {},
   "outputs": [],
   "source": []
  }
 ],
 "metadata": {
  "kernelspec": {
   "display_name": "Python 3 (ipykernel)",
   "language": "python",
   "name": "python3"
  },
  "language_info": {
   "codemirror_mode": {
    "name": "ipython",
    "version": 3
   },
   "file_extension": ".py",
   "mimetype": "text/x-python",
   "name": "python",
   "nbconvert_exporter": "python",
   "pygments_lexer": "ipython3",
   "version": "3.12.2"
  }
 },
 "nbformat": 4,
 "nbformat_minor": 5
}
